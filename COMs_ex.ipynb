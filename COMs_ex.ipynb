{
 "cells": [
  {
   "cell_type": "code",
   "execution_count": 18,
   "id": "797355f2-bda1-4f9f-a201-6756e5233acd",
   "metadata": {},
   "outputs": [
    {
     "name": "stdout",
     "output_type": "stream",
     "text": [
      "PyTorch version :  2.8.0+cpu\n",
      "Device :  cpu\n"
     ]
    }
   ],
   "source": [
    "##환경설정\n",
    "import torch\n",
    "import torch.nn as nn\n",
    "import torch.nn.functional as F\n",
    "import numpy as np\n",
    "import matplotlib.pyplot as plt\n",
    "import random, copy, time\n",
    "\n",
    "#재현성\n",
    "SEED = 2025\n",
    "torch.manual_seed(SEED)\n",
    "np.random.seed(SEED)\n",
    "random.seed(SEED)\n",
    "\n",
    "print(\"PyTorch version : \",torch.__version__)\n",
    "print(\"Device : \",torch.device(\"cuda\"if torch.cuda.is_available()else\"cpu\"))"
   ]
  },
  {
   "cell_type": "code",
   "execution_count": 19,
   "id": "a84bcbe4-c90c-48de-a005-5681dcf6e4f1",
   "metadata": {},
   "outputs": [],
   "source": [
    "##DataSet\n",
    "N = 1000\n",
    "X = np.random.randn(N, 2).astype(np.float32)\n",
    "true_w=np.array([[2.5],[-1.3]],dtype=np.float32)\n",
    "true_b=np.array([0.7],dtype=np.float32)\n",
    "\n",
    "y=X@true_w+true_b+0.5*np.random.randn(N,1).astype(np.float32)\n",
    "\n",
    "X_train,y_train = torch.from_numpy(X[:800]), torch.from_numpy(y[:800])\n",
    "X_val,y_val = torch.from_numpy(X[800:]), torch.from_numpy(y[800:])"
   ]
  },
  {
   "cell_type": "code",
   "execution_count": 20,
   "id": "6c2783a7-6d5a-4fc3-8543-0cdeb35e6f3d",
   "metadata": {},
   "outputs": [],
   "source": [
    "##Define model\n",
    "class LinearReg(nn.Module):\n",
    "    def __init__(self):\n",
    "        super().__init__()\n",
    "        self.lin = nn.Linear(2, 1)\n",
    "    def forward(self,x):\n",
    "        return self.lin(x)\n",
    "\n",
    "import torch.nn.functional as F\n",
    "\n",
    "def mse_loss(pred, target):\n",
    "        return F.mse_loss(pred, target)\n",
    "def make_minibatches(X, y, batch_size, generator=None):\n",
    "        n = X.shape[0]\n",
    "        perm = torch.randperm(n) if generator is None else torch.randperm(n,generator=generator)\n",
    "        for i in range(0, n, batch_size):\n",
    "            j = perm[i:i+batch_size]\n",
    "            yield X[j], y[j]"
   ]
  },
  {
   "cell_type": "code",
   "execution_count": 24,
   "id": "ad5bd5c2-4d5d-46cf-9111-7698e293fc30",
   "metadata": {},
   "outputs": [
    {
     "name": "stdout",
     "output_type": "stream",
     "text": [
      "BGD one-epoch | train: 9.614413261413574 val: 9.436654090881348\n"
     ]
    }
   ],
   "source": [
    "##학습루프\n",
    "##BGD\n",
    "model = LinearReg()\n",
    "lr = 1e-2\n",
    "\n",
    "# 전체 데이터로 한번에 forward/backward/step\n",
    "pred = model(X_train)\n",
    "loss = mse_loss(pred, y_train)\n",
    "loss.backward()\n",
    "\n",
    "with torch.no_grad():\n",
    "    for p in model.parameters():\n",
    "        p -= lr * p.grad\n",
    "        p.grad.zero_()\n",
    "\n",
    "val = mse_loss(model(X_val), y_val).item()\n",
    "print(\"BGD one-epoch | train:\", loss.item(), \"val:\", val)\n"
   ]
  },
  {
   "cell_type": "code",
   "execution_count": 16,
   "id": "47c82dba-18f3-4a32-9a95-3d580351b0a9",
   "metadata": {},
   "outputs": [
    {
     "name": "stdout",
     "output_type": "stream",
     "text": [
      "SGD one-epoch | mean train loss: 0.6491900355756942\n"
     ]
    }
   ],
   "source": [
    "##학습루프\n",
    "##SGD\n",
    "model = LinearReg()\n",
    "lr = 1e-2\n",
    "\n",
    "perm = torch.randperm(X_train.shape[0])\n",
    "total = 0.0\n",
    "for i in range(X_train.shape[0]):\n",
    "    xi = X_train[perm[i]:perm[i]+1]\n",
    "    yi = y_train[perm[i]:perm[i]+1]\n",
    "    pred = model(xi)\n",
    "    loss = mse_loss(pred, yi)\n",
    "    loss.backward()\n",
    "    with torch.no_grad():\n",
    "        for p in model.parameters():\n",
    "            p -= lr * p.grad\n",
    "            p.grad.zero_()\n",
    "    total += loss.item()\n",
    "print(\"SGD one-epoch | mean train loss:\", total/X_train.shape[0])"
   ]
  },
  {
   "cell_type": "code",
   "execution_count": 17,
   "id": "617bd802-158f-4c88-9d85-447e8ec896f6",
   "metadata": {},
   "outputs": [
    {
     "name": "stdout",
     "output_type": "stream",
     "text": [
      "MBGD one-epoch | mean train loss: 6.649388484954834\n"
     ]
    }
   ],
   "source": [
    "##학습루프\n",
    "##MBGD\n",
    "model = LinearReg()\n",
    "lr = 1e-2\n",
    "B = 64\n",
    "\n",
    "total = 0.0\n",
    "for bx, by in make_minibatches(X_train, y_train, B):\n",
    "    pred = model(bx)\n",
    "    loss = mse_loss(pred, by)\n",
    "    loss.backward()\n",
    "    with torch.no_grad():\n",
    "        for p in model.parameters():\n",
    "            p -= lr * p.grad\n",
    "            p.grad.zero_()\n",
    "    total += loss.item() * bx.shape[0]\n",
    "print(\"MBGD one-epoch | mean train loss:\", total/X_train.shape[0])"
   ]
  },
  {
   "cell_type": "code",
   "execution_count": 12,
   "id": "12ce6788-a14e-474e-8847-184966147101",
   "metadata": {},
   "outputs": [
    {
     "ename": "NameError",
     "evalue": "name 'loss_history' is not defined",
     "output_type": "error",
     "traceback": [
      "\u001b[31m---------------------------------------------------------------------------\u001b[39m",
      "\u001b[31mNameError\u001b[39m                                 Traceback (most recent call last)",
      "\u001b[36mCell\u001b[39m\u001b[36m \u001b[39m\u001b[32mIn[12]\u001b[39m\u001b[32m, line 2\u001b[39m\n\u001b[32m      1\u001b[39m \u001b[38;5;66;03m##Result\u001b[39;00m\n\u001b[32m----> \u001b[39m\u001b[32m2\u001b[39m plt.plot(\u001b[43mloss_history\u001b[49m, label=\u001b[33m\"\u001b[39m\u001b[33mBGD\u001b[39m\u001b[33m\"\u001b[39m)\n\u001b[32m      3\u001b[39m plt.plot(loss_history_sgd, label=\u001b[33m\"\u001b[39m\u001b[33mSGD\u001b[39m\u001b[33m\"\u001b[39m)\n\u001b[32m      4\u001b[39m plt.plot(loss_history_mbgd, label=\u001b[33m\"\u001b[39m\u001b[33mMBGD\u001b[39m\u001b[33m\"\u001b[39m)\n",
      "\u001b[31mNameError\u001b[39m: name 'loss_history' is not defined"
     ]
    }
   ],
   "source": [
    "##Result\n",
    "plt.plot(loss_history, label=\"BGD\")\n",
    "plt.plot(loss_history_sgd, label=\"SGD\")\n",
    "plt.plot(loss_history_mbgd, label=\"MBGD\")\n",
    "plt.legend()\n",
    "plt.show"
   ]
  },
  {
   "cell_type": "code",
   "execution_count": null,
   "id": "d20e18c2-c2e6-4722-9084-6d10cade138c",
   "metadata": {},
   "outputs": [],
   "source": []
  }
 ],
 "metadata": {
  "kernelspec": {
   "display_name": "COMsTest_env",
   "language": "python",
   "name": "comstest_env"
  },
  "language_info": {
   "codemirror_mode": {
    "name": "ipython",
    "version": 3
   },
   "file_extension": ".py",
   "mimetype": "text/x-python",
   "name": "python",
   "nbconvert_exporter": "python",
   "pygments_lexer": "ipython3",
   "version": "3.13.5"
  }
 },
 "nbformat": 4,
 "nbformat_minor": 5
}
